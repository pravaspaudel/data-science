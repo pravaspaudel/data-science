{
 "cells": [
  {
   "cell_type": "code",
   "execution_count": 1,
   "id": "14e82c5d-cce5-4836-b26c-5ab6af5e5b25",
   "metadata": {},
   "outputs": [],
   "source": [
    "import pandas as pd\n",
    "import matplotlib.pyplot as plt\n",
    "import seaborn as sns\n",
    "import numpy as np"
   ]
  },
  {
   "cell_type": "code",
   "execution_count": 2,
   "id": "948edf5c-cd47-4e4b-bc30-f480bf0ca253",
   "metadata": {},
   "outputs": [],
   "source": [
    "df = pd.read_csv('clusters.csv')\n"
   ]
  },
  {
   "cell_type": "code",
   "execution_count": 1,
   "id": "c66aabd5-88b2-492a-8cb3-3fe66a38e4d3",
   "metadata": {},
   "outputs": [
    {
     "ename": "NameError",
     "evalue": "name 'df' is not defined",
     "output_type": "error",
     "traceback": [
      "\u001b[1;31m---------------------------------------------------------------------------\u001b[0m",
      "\u001b[1;31mNameError\u001b[0m                                 Traceback (most recent call last)",
      "Cell \u001b[1;32mIn[1], line 1\u001b[0m\n\u001b[1;32m----> 1\u001b[0m \u001b[43mdf\u001b[49m\u001b[38;5;241m.\u001b[39mshape[\u001b[38;5;241m0\u001b[39m]\n",
      "\u001b[1;31mNameError\u001b[0m: name 'df' is not defined"
     ]
    }
   ],
   "source": [
    "df.shape[0]"
   ]
  },
  {
   "cell_type": "code",
   "execution_count": 2,
   "id": "25eda3b2-99e5-4941-84ce-ed7f79a2a40b",
   "metadata": {},
   "outputs": [
    {
     "ename": "NameError",
     "evalue": "name 'df' is not defined",
     "output_type": "error",
     "traceback": [
      "\u001b[1;31m---------------------------------------------------------------------------\u001b[0m",
      "\u001b[1;31mNameError\u001b[0m                                 Traceback (most recent call last)",
      "Cell \u001b[1;32mIn[2], line 1\u001b[0m\n\u001b[1;32m----> 1\u001b[0m \u001b[43mdf\u001b[49m\u001b[38;5;241m.\u001b[39mhead()\n",
      "\u001b[1;31mNameError\u001b[0m: name 'df' is not defined"
     ]
    }
   ],
   "source": [
    "df.head()"
   ]
  },
  {
   "cell_type": "code",
   "execution_count": null,
   "id": "7b179a6f-18c6-4ec2-86e7-0dd6ba38d1bf",
   "metadata": {},
   "outputs": [],
   "source": []
  },
  {
   "cell_type": "code",
   "execution_count": 9,
   "id": "5376fa35-aa3b-439a-b7bb-808b330a9b0b",
   "metadata": {},
   "outputs": [
    {
     "data": {
      "text/plain": [
       "<Axes: xlabel='x1', ylabel='x2'>"
      ]
     },
     "execution_count": 9,
     "metadata": {},
     "output_type": "execute_result"
    },
    {
     "data": {
      "image/png": "[encoded data removed]",
      "text/plain": [
       "<Figure size 640x480 with 1 Axes>"
      ]
     },
     "metadata": {},
     "output_type": "display_data"
    }
   ],
   "source": [
    "sns.scatterplot(x='x1',y='x2',data = df)"
   ]
  },
  {
   "cell_type": "markdown",
   "id": "2fd9115c-a4db-43a8-8f7e-a8687ad60247",
   "metadata": {},
   "source": [
    "Suppose the number of cluster to form as 3"
   ]
  },
  {
   "cell_type": "code",
   "execution_count": 58,
   "id": "609e9ccb-0c3f-4429-960d-714c9bb9f9be",
   "metadata": {},
   "outputs": [],
   "source": [
    "number_of_clusters = 3\n",
    "\n",
    "random_integer = np.random.randint(0,df.shape[0],3)\n",
    "\n",
    "centroidx = df.iloc[random_integer[0]].values\n",
    "centroidy = df.iloc[random_integer[1]].values\n",
    "centroidz = df.iloc[random_integer[2]].values"
   ]
  },
  {
   "cell_type": "code",
   "execution_count": 59,
   "id": "57c920b3-c3ad-4a99-ada4-f340c9ffebe8",
   "metadata": {},
   "outputs": [],
   "source": [
    "initialcentroids = [centroidx,centroidy,centroidz]"
   ]
  },
  {
   "cell_type": "code",
   "execution_count": 60,
   "id": "0b896d09-b0b2-4ef6-bf21-9b10543fda23",
   "metadata": {},
   "outputs": [
    {
     "data": {
      "text/plain": [
       "[array([ 6.37008515, 10.01513767]),\n",
       " array([7.74990309, 7.95846501]),\n",
       " array([1.75482642, 8.13350322])]"
      ]
     },
     "execution_count": 60,
     "metadata": {},
     "output_type": "execute_result"
    }
   ],
   "source": [
    "initialcentroids"
   ]
  },
  {
   "cell_type": "code",
   "execution_count": 67,
   "id": "dfe99dea-e251-49b6-8473-8707ae1ed6b9",
   "metadata": {},
   "outputs": [],
   "source": [
    "intialcentroids_df = pd.DataFrame(initialcentroids)"
   ]
  },
  {
   "cell_type": "code",
   "execution_count": 68,
   "id": "d6d949fd-ec28-430f-8c5e-73882c780b56",
   "metadata": {},
   "outputs": [
    {
     "data": {
      "text/html": [
       "<div>\n",
       "<style scoped>\n",
       "    .dataframe tbody tr th:only-of-type {\n",
       "        vertical-align: middle;\n",
       "    }\n",
       "\n",
       "    .dataframe tbody tr th {\n",
       "        vertical-align: top;\n",
       "    }\n",
       "\n",
       "    .dataframe thead th {\n",
       "        text-align: right;\n",
       "    }\n",
       "</style>\n",
       "<table border=\"1\" class=\"dataframe\">\n",
       "  <thead>\n",
       "    <tr style=\"text-align: right;\">\n",
       "      <th></th>\n",
       "      <th>0</th>\n",
       "      <th>1</th>\n",
       "    </tr>\n",
       "  </thead>\n",
       "  <tbody>\n",
       "    <tr>\n",
       "      <th>0</th>\n",
       "      <td>6.370085</td>\n",
       "      <td>10.015138</td>\n",
       "    </tr>\n",
       "    <tr>\n",
       "      <th>1</th>\n",
       "      <td>7.749903</td>\n",
       "      <td>7.958465</td>\n",
       "    </tr>\n",
       "    <tr>\n",
       "      <th>2</th>\n",
       "      <td>1.754826</td>\n",
       "      <td>8.133503</td>\n",
       "    </tr>\n",
       "  </tbody>\n",
       "</table>\n",
       "</div>"
      ],
      "text/plain": [
       "          0          1\n",
       "0  6.370085  10.015138\n",
       "1  7.749903   7.958465\n",
       "2  1.754826   8.133503"
      ]
     },
     "execution_count": 68,
     "metadata": {},
     "output_type": "execute_result"
    }
   ],
   "source": [
    "intialcentroids_df"
   ]
  },
  {
   "cell_type": "code",
   "execution_count": 75,
   "id": "4faccf57-8ee9-420b-abdf-0ac3ec3c58f9",
   "metadata": {},
   "outputs": [
    {
     "data": {
      "text/plain": [
       "0    6.370085\n",
       "1    7.749903\n",
       "2    1.754826\n",
       "Name: 0, dtype: float64"
      ]
     },
     "execution_count": 75,
     "metadata": {},
     "output_type": "execute_result"
    }
   ],
   "source": [
    "intialcentroids_df[0]"
   ]
  },
  {
   "cell_type": "code",
   "execution_count": null,
   "id": "5c3f2a59-289f-4857-aa39-b3d9dd503aaf",
   "metadata": {},
   "outputs": [],
   "source": []
  },
  {
   "cell_type": "code",
   "execution_count": 83,
   "id": "b7f14bbb-8542-4d4c-bf6a-a977d823c91c",
   "metadata": {},
   "outputs": [
    {
     "name": "stderr",
     "output_type": "stream",
     "text": [
      "C:\\Users\\Brothers\\AppData\\Local\\Temp\\ipykernel_9316\\1468834732.py:2: UserWarning: Ignoring `palette` because no `hue` variable has been assigned.\n",
      "  sns.scatterplot(x=intialcentroids_df[0],y = intialcentroids_df[1],color='blue',marker='x',s=200,palette=\"viridis\")\n"
     ]
    },
    {
     "data": {
      "text/plain": [
       "<Axes: xlabel='x1', ylabel='x2'>"
      ]
     },
     "execution_count": 83,
     "metadata": {},
     "output_type": "execute_result"
    },
    {
     "data": {
      "image/png": "[encoded data removed]",
      "text/plain": [
       "<Figure size 640x480 with 1 Axes>"
      ]
     },
     "metadata": {},
     "output_type": "display_data"
    }
   ],
   "source": [
    "sns.scatterplot(x='x1',y='x2',data=df,color='red')\n",
    "sns.scatterplot(x=intialcentroids_df[0],y = intialcentroids_df[1],color='blue',marker='x',s=200,palette=\"viridis\")\n"
   ]
  },
  {
   "cell_type": "code",
   "execution_count": null,
   "id": "48e8a543-61a1-449f-a78c-71a47289d208",
   "metadata": {},
   "outputs": [],
   "source": [
    "#now gonna label each point as 0,1,2 based on the distance from centroid \n",
    "\n",
    "iterations = 10\n",
    "\n",
    "for i in range(0,iterations):\n",
    "    labelled_clusters = []\n",
    "    distance = []\n",
    "    for j in range(0,df.shape[0]):\n",
    "        \n",
    "        \n",
    "    "
   ]
  },
  {
   "cell_type": "code",
   "execution_count": null,
   "id": "d3d54ea1-ae24-4824-a074-89b939fd8d10",
   "metadata": {},
   "outputs": [],
   "source": []
  }
 ],
 "metadata": {
  "kernelspec": {
   "display_name": "Python 3 (ipykernel)",
   "language": "python",
   "name": "python3"
  },
  "language_info": {
   "codemirror_mode": {
    "name": "ipython",
    "version": 3
   },
   "file_extension": ".py",
   "mimetype": "text/x-python",
   "name": "python",
   "nbconvert_exporter": "python",
   "pygments_lexer": "ipython3",
   "version": "3.12.1"
  }
 },
 "nbformat": 4,
 "nbformat_minor": 5
}
