{
 "cells": [
  {
   "cell_type": "markdown",
   "id": "11f7aac7-6663-4447-862e-bc32e8f68830",
   "metadata": {},
   "source": [
    "## Calculate a 95% confidence interval for the mean age of passengers in the Titanic dataset (train.csv)."
   ]
  },
  {
   "cell_type": "code",
   "execution_count": 2,
   "id": "2a8d52b8-1976-4832-901b-fcc1be47d02f",
   "metadata": {},
   "outputs": [],
   "source": [
    "import pandas as pd\n",
    "import numpy as np\n",
    "import seaborn as sns\n",
    "import matplotlib.pyplot as plt"
   ]
  },
  {
   "cell_type": "code",
   "execution_count": 3,
   "id": "4e18f1a1-c1da-4ab4-bc38-3c8a9a3c5ef9",
   "metadata": {},
   "outputs": [],
   "source": [
    "df = pd.read_csv('train.csv')"
   ]
  },
  {
   "cell_type": "code",
   "execution_count": 4,
   "id": "daa715b0-4e80-4e3a-982f-98f6d5d5a159",
   "metadata": {},
   "outputs": [
    {
     "data": {
      "text/html": [
       "<div>\n",
       "<style scoped>\n",
       "    .dataframe tbody tr th:only-of-type {\n",
       "        vertical-align: middle;\n",
       "    }\n",
       "\n",
       "    .dataframe tbody tr th {\n",
       "        vertical-align: top;\n",
       "    }\n",
       "\n",
       "    .dataframe thead th {\n",
       "        text-align: right;\n",
       "    }\n",
       "</style>\n",
       "<table border=\"1\" class=\"dataframe\">\n",
       "  <thead>\n",
       "    <tr style=\"text-align: right;\">\n",
       "      <th></th>\n",
       "      <th>PassengerId</th>\n",
       "      <th>Survived</th>\n",
       "      <th>Pclass</th>\n",
       "      <th>Name</th>\n",
       "      <th>Sex</th>\n",
       "      <th>Age</th>\n",
       "      <th>SibSp</th>\n",
       "      <th>Parch</th>\n",
       "      <th>Ticket</th>\n",
       "      <th>Fare</th>\n",
       "      <th>Cabin</th>\n",
       "      <th>Embarked</th>\n",
       "    </tr>\n",
       "  </thead>\n",
       "  <tbody>\n",
       "    <tr>\n",
       "      <th>0</th>\n",
       "      <td>1</td>\n",
       "      <td>0</td>\n",
       "      <td>3</td>\n",
       "      <td>Braund, Mr. Owen Harris</td>\n",
       "      <td>male</td>\n",
       "      <td>22.0</td>\n",
       "      <td>1</td>\n",
       "      <td>0</td>\n",
       "      <td>A/5 21171</td>\n",
       "      <td>7.2500</td>\n",
       "      <td>NaN</td>\n",
       "      <td>S</td>\n",
       "    </tr>\n",
       "    <tr>\n",
       "      <th>1</th>\n",
       "      <td>2</td>\n",
       "      <td>1</td>\n",
       "      <td>1</td>\n",
       "      <td>Cumings, Mrs. John Bradley (Florence Briggs Th...</td>\n",
       "      <td>female</td>\n",
       "      <td>38.0</td>\n",
       "      <td>1</td>\n",
       "      <td>0</td>\n",
       "      <td>PC 17599</td>\n",
       "      <td>71.2833</td>\n",
       "      <td>C85</td>\n",
       "      <td>C</td>\n",
       "    </tr>\n",
       "    <tr>\n",
       "      <th>2</th>\n",
       "      <td>3</td>\n",
       "      <td>1</td>\n",
       "      <td>3</td>\n",
       "      <td>Heikkinen, Miss. Laina</td>\n",
       "      <td>female</td>\n",
       "      <td>26.0</td>\n",
       "      <td>0</td>\n",
       "      <td>0</td>\n",
       "      <td>STON/O2. 3101282</td>\n",
       "      <td>7.9250</td>\n",
       "      <td>NaN</td>\n",
       "      <td>S</td>\n",
       "    </tr>\n",
       "    <tr>\n",
       "      <th>3</th>\n",
       "      <td>4</td>\n",
       "      <td>1</td>\n",
       "      <td>1</td>\n",
       "      <td>Futrelle, Mrs. Jacques Heath (Lily May Peel)</td>\n",
       "      <td>female</td>\n",
       "      <td>35.0</td>\n",
       "      <td>1</td>\n",
       "      <td>0</td>\n",
       "      <td>113803</td>\n",
       "      <td>53.1000</td>\n",
       "      <td>C123</td>\n",
       "      <td>S</td>\n",
       "    </tr>\n",
       "    <tr>\n",
       "      <th>4</th>\n",
       "      <td>5</td>\n",
       "      <td>0</td>\n",
       "      <td>3</td>\n",
       "      <td>Allen, Mr. William Henry</td>\n",
       "      <td>male</td>\n",
       "      <td>35.0</td>\n",
       "      <td>0</td>\n",
       "      <td>0</td>\n",
       "      <td>373450</td>\n",
       "      <td>8.0500</td>\n",
       "      <td>NaN</td>\n",
       "      <td>S</td>\n",
       "    </tr>\n",
       "  </tbody>\n",
       "</table>\n",
       "</div>"
      ],
      "text/plain": [
       "   PassengerId  Survived  Pclass  \\\n",
       "0            1         0       3   \n",
       "1            2         1       1   \n",
       "2            3         1       3   \n",
       "3            4         1       1   \n",
       "4            5         0       3   \n",
       "\n",
       "                                                Name     Sex   Age  SibSp  \\\n",
       "0                            Braund, Mr. Owen Harris    male  22.0      1   \n",
       "1  Cumings, Mrs. John Bradley (Florence Briggs Th...  female  38.0      1   \n",
       "2                             Heikkinen, Miss. Laina  female  26.0      0   \n",
       "3       Futrelle, Mrs. Jacques Heath (Lily May Peel)  female  35.0      1   \n",
       "4                           Allen, Mr. William Henry    male  35.0      0   \n",
       "\n",
       "   Parch            Ticket     Fare Cabin Embarked  \n",
       "0      0         A/5 21171   7.2500   NaN        S  \n",
       "1      0          PC 17599  71.2833   C85        C  \n",
       "2      0  STON/O2. 3101282   7.9250   NaN        S  \n",
       "3      0            113803  53.1000  C123        S  \n",
       "4      0            373450   8.0500   NaN        S  "
      ]
     },
     "execution_count": 4,
     "metadata": {},
     "output_type": "execute_result"
    }
   ],
   "source": [
    "df.head()"
   ]
  },
  {
   "cell_type": "code",
   "execution_count": 6,
   "id": "dd8f04ad-f300-4e5f-9d73-6fb1f7ea59c2",
   "metadata": {},
   "outputs": [],
   "source": [
    "age_df = df['Age']"
   ]
  },
  {
   "cell_type": "code",
   "execution_count": 35,
   "id": "b476db3e-a7c8-4c29-a979-ec908ae164bd",
   "metadata": {},
   "outputs": [
    {
     "data": {
      "text/plain": [
       "303     NaN\n",
       "668    43.0\n",
       "662    47.0\n",
       "626    57.0\n",
       "298     NaN\n",
       "       ... \n",
       "188    40.0\n",
       "504    16.0\n",
       "799    30.0\n",
       "867    31.0\n",
       "361    29.0\n",
       "Name: Age, Length: 100, dtype: float64"
      ]
     },
     "execution_count": 35,
     "metadata": {},
     "output_type": "execute_result"
    }
   ],
   "source": [
    "sample_size = 100\n",
    "age_df.sample(sample_size)"
   ]
  },
  {
   "cell_type": "code",
   "execution_count": 11,
   "id": "ec892eee-b223-4422-9acf-5ab186c341ab",
   "metadata": {},
   "outputs": [
    {
     "name": "stdout",
     "output_type": "stream",
     "text": [
      "standard deviation of age is 14.526497332334042\n"
     ]
    }
   ],
   "source": [
    "print(f\"standard deviation of age is {age_df.std()}\")"
   ]
  },
  {
   "cell_type": "code",
   "execution_count": 16,
   "id": "0805ace0-14b8-4dfd-8130-b8b2484f3c02",
   "metadata": {},
   "outputs": [],
   "source": [
    "#for z -test \n",
    "std = df['Age'].std() #standard deviation of population\n",
    "n = 100"
   ]
  },
  {
   "cell_type": "code",
   "execution_count": 17,
   "id": "9ff3b6fd-b117-4909-ad1c-70d48d6cb9d0",
   "metadata": {},
   "outputs": [],
   "source": [
    "point_estimate = age_df.mean()"
   ]
  },
  {
   "cell_type": "code",
   "execution_count": 18,
   "id": "593443e6-60fd-416b-8a50-2ea55b9c16d3",
   "metadata": {},
   "outputs": [
    {
     "data": {
      "text/plain": [
       "np.float64(29.69911764705882)"
      ]
     },
     "execution_count": 18,
     "metadata": {},
     "output_type": "execute_result"
    }
   ],
   "source": [
    "point_estimate"
   ]
  },
  {
   "cell_type": "code",
   "execution_count": 21,
   "id": "6fdebbf6-3c6e-4166-8704-d3d623c94e22",
   "metadata": {},
   "outputs": [],
   "source": [
    "#for 95 percent confidence interval\n",
    "#to find area towards left we have (confidence level +1) /2\n",
    "\n",
    "confidence_level = 0.95\n",
    "area_to_left = (0.95 + 1) /2\n"
   ]
  },
  {
   "cell_type": "code",
   "execution_count": 29,
   "id": "7de2595b-f9ba-4560-ac63-338cf5bf8f06",
   "metadata": {},
   "outputs": [
    {
     "data": {
      "text/plain": [
       "0.975"
      ]
     },
     "execution_count": 29,
     "metadata": {},
     "output_type": "execute_result"
    }
   ],
   "source": [
    "area_to_left"
   ]
  },
  {
   "cell_type": "code",
   "execution_count": 33,
   "id": "32c0e793-3165-4c61-8277-8dada701be17",
   "metadata": {},
   "outputs": [],
   "source": [
    "import scipy.stats as stats"
   ]
  },
  {
   "cell_type": "code",
   "execution_count": 34,
   "id": "ffd25e55-18c9-469b-af28-b168007eefa5",
   "metadata": {},
   "outputs": [
    {
     "data": {
      "text/plain": [
       "np.float64(1.959963984540054)"
      ]
     },
     "execution_count": 34,
     "metadata": {},
     "output_type": "execute_result"
    }
   ],
   "source": [
    "z_value = stats.norm.ppf(area_to_left)\n",
    "z_value#this is the respective z value\n"
   ]
  },
  {
   "cell_type": "code",
   "execution_count": 36,
   "id": "96cfbb9c-e25f-421c-823b-645208d77472",
   "metadata": {},
   "outputs": [],
   "source": [
    "ci_plus = point_estimate + z_value * std / (sample_size) ** (1/2)"
   ]
  },
  {
   "cell_type": "code",
   "execution_count": 37,
   "id": "080a5b04-6d98-4c17-8a17-0e1e1a911da2",
   "metadata": {},
   "outputs": [
    {
     "data": {
      "text/plain": [
       "np.float64(32.54625880634801)"
      ]
     },
     "execution_count": 37,
     "metadata": {},
     "output_type": "execute_result"
    }
   ],
   "source": [
    "ci_plus"
   ]
  },
  {
   "cell_type": "code",
   "execution_count": 38,
   "id": "c02e2e71-14c2-4969-8c58-73def88823c6",
   "metadata": {},
   "outputs": [],
   "source": [
    "ci_minus = point_estimate - z_value * std/ sample_size ** (1/2)"
   ]
  },
  {
   "cell_type": "code",
   "execution_count": 39,
   "id": "04eac391-8763-41ae-844f-d26d31499535",
   "metadata": {},
   "outputs": [
    {
     "name": "stdout",
     "output_type": "stream",
     "text": [
      "so confidence interval of age of titanic with 95 percent confidence interval is (32.54625880634801,26.85197648776963)\n"
     ]
    }
   ],
   "source": [
    "print(f\"so confidence interval of age of titanic with 95 percent confidence interval is ({ci_plus},{ci_minus})\")"
   ]
  },
  {
   "cell_type": "code",
   "execution_count": null,
   "id": "ed64a5b6-931a-43b6-8ce2-97c9b7b1d479",
   "metadata": {},
   "outputs": [],
   "source": []
  }
 ],
 "metadata": {
  "kernelspec": {
   "display_name": "Python 3 (ipykernel)",
   "language": "python",
   "name": "python3"
  },
  "language_info": {
   "codemirror_mode": {
    "name": "ipython",
    "version": 3
   },
   "file_extension": ".py",
   "mimetype": "text/x-python",
   "name": "python",
   "nbconvert_exporter": "python",
   "pygments_lexer": "ipython3",
   "version": "3.12.1"
  }
 },
 "nbformat": 4,
 "nbformat_minor": 5
}
